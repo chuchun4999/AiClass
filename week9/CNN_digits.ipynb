{
 "cells": [
  {
   "cell_type": "code",
   "execution_count": 29,
   "id": "e44edfb1",
   "metadata": {},
   "outputs": [
    {
     "data": {
      "text/plain": [
       "<matplotlib.image.AxesImage at 0x20db1a37b60>"
      ]
     },
     "execution_count": 29,
     "metadata": {},
     "output_type": "execute_result"
    },
    {
     "data": {
      "image/png": "[encoded data removed]",
      "text/plain": [
       "<Figure size 640x480 with 1 Axes>"
      ]
     },
     "metadata": {},
     "output_type": "display_data"
    }
   ],
   "source": [
    "import matplotlib.pyplot as plt\n",
    "from sklearn import datasets, metrics\n",
    "from sklearn.model_selection import train_test_split\n",
    "\n",
    "digits = datasets.load_digits()\n",
    "plt.imshow(digits.images[0], cmap=plt.cm.gray_r, interpolation='nearest')"
   ]
  },
  {
   "cell_type": "code",
   "execution_count": 30,
   "id": "b0718ae7",
   "metadata": {},
   "outputs": [],
   "source": [
    "n_samples = len(digits.images)\n",
    "data = digits.images"
   ]
  },
  {
   "cell_type": "code",
   "execution_count": 32,
   "id": "463100df",
   "metadata": {},
   "outputs": [
    {
     "name": "stdout",
     "output_type": "stream",
     "text": [
      "(1437, 8, 8)\n",
      "[0 1 2 ... 8 9 8]\n"
     ]
    }
   ],
   "source": [
    "X_train,X_test,y_train,y_test = train_test_split(data, digits.target,test_size=0.2)\n",
    "\n",
    "print(X_train.shape)\n",
    "print(digits.target)"
   ]
  },
  {
   "cell_type": "code",
   "execution_count": 33,
   "id": "65da4236",
   "metadata": {},
   "outputs": [
    {
     "name": "stdout",
     "output_type": "stream",
     "text": [
      "tensor([7, 2, 5,  ..., 8, 0, 5])\n"
     ]
    }
   ],
   "source": [
    "import torch\n",
    "from torch.utils.data import TensorDataset, DataLoader\n",
    "\n",
    "# TensorDataset으로 래핑\n",
    "X_train_tensor = torch.tensor(X_train, dtype=torch.float32).unsqueeze(1) \n",
    "y_train_tensor = torch.tensor(y_train, dtype=torch.int64)\n",
    "X_test_tensor = torch.tensor(X_test, dtype=torch.float32).unsqueeze(1) \n",
    "y_test_tensor = torch.tensor(y_test, dtype=torch.int64)\n",
    "\n",
    "train_dataset = TensorDataset(X_train_tensor, y_train_tensor)\n",
    "test_dataset = TensorDataset(X_test_tensor, y_test_tensor)\n",
    "\n",
    "train_loader = DataLoader(train_dataset, batch_size=32, shuffle=True)\n",
    "test_loader = DataLoader(test_dataset, batch_size=32)\n",
    "\n",
    "print(y_train_tensor)"
   ]
  },
  {
   "cell_type": "code",
   "execution_count": null,
   "id": "8707983c",
   "metadata": {},
   "outputs": [],
   "source": [
    "import torch.nn as nn\n",
    "import torch.optim as optim\n",
    "\n",
    "# 분류 모델 정의\n",
    "class SimpleCNN(nn.Module):\n",
    "    def __init__(self):\n",
    "        super(SimpleCNN, self).__init__()\n",
    "    \n",
    "        # in_channels\t입력 이미지의 채널 수 흑백이면 1, RGB면 3\n",
    "        # out_channels\t필터 개수 = 출력 feature map의 채널 수, 이 수만큼 다른 특징 추출\n",
    "        # kernel_size\t필터 크기: 3×3을 사용함\n",
    "        # padding\t출력 크기를 입력과 같게 유지하기 위한 여백 추가\n",
    "\n",
    "        self.conv1 = nn.Conv2d(in_channels=1, out_channels=16, kernel_size=3, padding=1)  # -> (16, 8, 8)\n",
    "        self.pool = nn.MaxPool2d(2, 2)  # -> (16, 4, 4)\n",
    "        self.conv2 = nn.Conv2d(16, 32, kernel_size=3, padding=1)  # -> (32, 4, 4)\n",
    "        # -> (32, 2, 2)\n",
    "      \n",
    "        self.fc1 = nn.Linear(32 * 2 * 2, 64) # 32 * 2 * 2 -> CNN의 합성곱 계층과 풀링 계층을 거친 후의 feature map 크기를 계산 한 것 \n",
    "        self.fc2 = nn.Linear(64, 32)\n",
    "        self.fc3 = nn.Linear(32, 10)\n",
    "\n",
    "    def forward(self, x):\n",
    "        x = torch.relu(self.conv1(x))  \n",
    "        x = self.pool(x)              \n",
    "        x = torch.relu(self.conv2(x))  \n",
    "        x = self.pool(x)               \n",
    "        x = x.view(-1, 32 * 2 * 2)     # flatten\n",
    "        x = torch.relu(self.fc1(x))\n",
    "        x = torch.relu(self.fc2(x))\n",
    "        x = self.fc3(x)\n",
    "        return x\n",
    "\n",
    "# GPU 사용, 없으면 cpu 사용\n",
    "device = torch.device(\"cuda\" if torch.cuda.is_available() else \"cpu\")\n",
    "model = SimpleCNN().to(device)\n",
    "criterion = nn.CrossEntropyLoss()\n",
    "optimizer = optim.Adam(model.parameters(), lr=0.001)"
   ]
  },
  {
   "cell_type": "code",
   "execution_count": 35,
   "id": "7fbc0339",
   "metadata": {},
   "outputs": [
    {
     "name": "stdout",
     "output_type": "stream",
     "text": [
      "Epoch 1, Loss: 2.0499\n",
      "Epoch 2, Loss: 0.8788\n",
      "Epoch 3, Loss: 0.3358\n",
      "Epoch 4, Loss: 0.2285\n",
      "Epoch 5, Loss: 0.1552\n",
      "Epoch 6, Loss: 0.1140\n",
      "Epoch 7, Loss: 0.0874\n",
      "Epoch 8, Loss: 0.0918\n",
      "Epoch 9, Loss: 0.0640\n",
      "Epoch 10, Loss: 0.0558\n",
      "Epoch 11, Loss: 0.0389\n",
      "Epoch 12, Loss: 0.0315\n",
      "Epoch 13, Loss: 0.0375\n",
      "Epoch 14, Loss: 0.0288\n",
      "Epoch 15, Loss: 0.0232\n",
      "Epoch 16, Loss: 0.0184\n",
      "Epoch 17, Loss: 0.0133\n",
      "Epoch 18, Loss: 0.0121\n",
      "Epoch 19, Loss: 0.0073\n",
      "Epoch 20, Loss: 0.0049\n",
      "Epoch 21, Loss: 0.0049\n",
      "Epoch 22, Loss: 0.0051\n",
      "Epoch 23, Loss: 0.0039\n",
      "Epoch 24, Loss: 0.0034\n",
      "Epoch 25, Loss: 0.0089\n",
      "Epoch 26, Loss: 0.0275\n",
      "Epoch 27, Loss: 0.0063\n",
      "Epoch 28, Loss: 0.0032\n",
      "Epoch 29, Loss: 0.0021\n",
      "Epoch 30, Loss: 0.0018\n",
      "Epoch 31, Loss: 0.0022\n",
      "Epoch 32, Loss: 0.0013\n",
      "Epoch 33, Loss: 0.0012\n",
      "Epoch 34, Loss: 0.0011\n",
      "Epoch 35, Loss: 0.0010\n",
      "Epoch 36, Loss: 0.0009\n",
      "Epoch 37, Loss: 0.0008\n",
      "Epoch 38, Loss: 0.0008\n",
      "Epoch 39, Loss: 0.0007\n",
      "Epoch 40, Loss: 0.0007\n",
      "Epoch 41, Loss: 0.0006\n",
      "Epoch 42, Loss: 0.0006\n",
      "Epoch 43, Loss: 0.0005\n",
      "Epoch 44, Loss: 0.0005\n",
      "Epoch 45, Loss: 0.0005\n",
      "Epoch 46, Loss: 0.0005\n",
      "Epoch 47, Loss: 0.0004\n",
      "Epoch 48, Loss: 0.0004\n",
      "Epoch 49, Loss: 0.0004\n",
      "Epoch 50, Loss: 0.0004\n"
     ]
    }
   ],
   "source": [
    "# 학습 루프\n",
    "model.train()\n",
    "for epoch in range(50):\n",
    "    total_loss = 0\n",
    "    for X_batch, y_batch in train_loader:\n",
    "        X_batch, y_batch = X_batch.to(device), y_batch.to(device)\n",
    "        optimizer.zero_grad()\n",
    "        output = model(X_batch)\n",
    "        loss = criterion(output, y_batch)\n",
    "        loss.backward()\n",
    "        optimizer.step()\n",
    "        total_loss += loss.item()\n",
    "    print(f\"Epoch {epoch+1}, Loss: {total_loss / len(train_loader):.4f}\")"
   ]
  },
  {
   "cell_type": "code",
   "execution_count": 37,
   "id": "8c787ae3",
   "metadata": {},
   "outputs": [
    {
     "name": "stdout",
     "output_type": "stream",
     "text": [
      "Accuracy     : 0.9833\n",
      "Precision    : 0.9828\n",
      "Recall       : 0.9863\n",
      "F1 Score     : 0.9843\n"
     ]
    }
   ],
   "source": [
    "from sklearn.metrics import  accuracy_score, precision_score, recall_score, f1_score, confusion_matrix, roc_auc_score\n",
    "import torch\n",
    "\n",
    "# 평가\n",
    "model.eval()\n",
    "\n",
    "all_preds = []\n",
    "all_labels = []\n",
    "\n",
    "with torch.no_grad():\n",
    "    for X_batch, y_batch in test_loader:\n",
    "        X_batch = X_batch.to(device)\n",
    "        y_batch = y_batch.to(device)\n",
    "\n",
    "        # 예측\n",
    "        outputs = model(X_batch)\n",
    "        preds = torch.argmax(outputs, dim=1) \n",
    "\n",
    "        all_preds.extend(preds.cpu().numpy())\n",
    "        all_labels.extend(y_batch.cpu().numpy())\n",
    "\n",
    "\n",
    "# 평가 지표 출력\n",
    "accuracy = accuracy_score(all_labels, all_preds)\n",
    "precision = precision_score(all_labels, all_preds, average='macro')\n",
    "recall = recall_score(all_labels, all_preds,  average='macro')\n",
    "f1 = f1_score(all_labels,all_preds, average='macro')\n",
    "conf_matrix = confusion_matrix(all_labels, all_preds)\n",
    "\n",
    "print(f\"Accuracy     : {accuracy:.4f}\")\n",
    "print(f\"Precision    : {precision:.4f}\")\n",
    "print(f\"Recall       : {recall:.4f}\")\n",
    "print(f\"F1 Score     : {f1:.4f}\")"
   ]
  }
 ],
 "metadata": {
  "kernelspec": {
   "display_name": "base",
   "language": "python",
   "name": "python3"
  },
  "language_info": {
   "codemirror_mode": {
    "name": "ipython",
    "version": 3
   },
   "file_extension": ".py",
   "mimetype": "text/x-python",
   "name": "python",
   "nbconvert_exporter": "python",
   "pygments_lexer": "ipython3",
   "version": "3.12.4"
  }
 },
 "nbformat": 4,
 "nbformat_minor": 5
}
